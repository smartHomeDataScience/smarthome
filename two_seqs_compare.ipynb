{
 "cells": [
  {
   "cell_type": "code",
   "execution_count": 1,
   "metadata": {
    "collapsed": true
   },
   "outputs": [],
   "source": [
    "import numpy as np\n",
    "import pandas as pd"
   ]
  },
  {
   "cell_type": "code",
   "execution_count": 2,
   "metadata": {
    "collapsed": true
   },
   "outputs": [],
   "source": [
    "import matplotlib.pyplot as plt\n",
    "from matplotlib import rcParams\n",
    "import seaborn as sb \n",
    "\n",
    "import scipy\n",
    "from scipy.stats import spearmanr"
   ]
  },
  {
   "cell_type": "code",
   "execution_count": 3,
   "metadata": {
    "collapsed": false
   },
   "outputs": [
    {
     "ename": "IOError",
     "evalue": "File /Users/nashmasamba/Projects/smarthome-master/data/train/00001/all_video.csv does not exist",
     "output_type": "error",
     "traceback": [
      "\u001b[0;31m---------------------------------------------------------------------------\u001b[0m",
      "\u001b[0;31mIOError\u001b[0m                                   Traceback (most recent call last)",
      "\u001b[0;32m<ipython-input-3-07973469aee3>\u001b[0m in \u001b[0;36m<module>\u001b[0;34m()\u001b[0m\n\u001b[1;32m      9\u001b[0m \u001b[0mpid_8\u001b[0m \u001b[0;34m=\u001b[0m \u001b[0;36m8\u001b[0m\u001b[0;34m\u001b[0m\u001b[0m\n\u001b[1;32m     10\u001b[0m \u001b[0mpid_9\u001b[0m \u001b[0;34m=\u001b[0m \u001b[0;36m9\u001b[0m\u001b[0;34m\u001b[0m\u001b[0m\n\u001b[0;32m---> 11\u001b[0;31m \u001b[0mpid_Data_1\u001b[0m \u001b[0;34m=\u001b[0m \u001b[0mpd\u001b[0m\u001b[0;34m.\u001b[0m\u001b[0mread_csv\u001b[0m\u001b[0;34m(\u001b[0m\u001b[0;34m'~/Projects/smarthome-master/data/train/0000'\u001b[0m \u001b[0;34m+\u001b[0m \u001b[0mstr\u001b[0m\u001b[0;34m(\u001b[0m\u001b[0mpid_1\u001b[0m\u001b[0;34m)\u001b[0m \u001b[0;34m+\u001b[0m \u001b[0;34m'/all_video.csv'\u001b[0m\u001b[0;34m,\u001b[0m\u001b[0mindex_col\u001b[0m\u001b[0;34m=\u001b[0m\u001b[0;34m't'\u001b[0m\u001b[0;34m,\u001b[0m\u001b[0mparse_dates\u001b[0m\u001b[0;34m=\u001b[0m\u001b[0mTrue\u001b[0m\u001b[0;34m)\u001b[0m\u001b[0;34m\u001b[0m\u001b[0m\n\u001b[0m\u001b[1;32m     12\u001b[0m \u001b[0mpid_Data_2\u001b[0m \u001b[0;34m=\u001b[0m \u001b[0mpd\u001b[0m\u001b[0;34m.\u001b[0m\u001b[0mread_csv\u001b[0m\u001b[0;34m(\u001b[0m\u001b[0;34m'~/Projects/smarthome-master/data/train/0000'\u001b[0m \u001b[0;34m+\u001b[0m \u001b[0mstr\u001b[0m\u001b[0;34m(\u001b[0m\u001b[0mpid_2\u001b[0m\u001b[0;34m)\u001b[0m \u001b[0;34m+\u001b[0m \u001b[0;34m'/all_video.csv'\u001b[0m\u001b[0;34m,\u001b[0m\u001b[0mindex_col\u001b[0m\u001b[0;34m=\u001b[0m\u001b[0;34m't'\u001b[0m\u001b[0;34m,\u001b[0m\u001b[0mparse_dates\u001b[0m\u001b[0;34m=\u001b[0m\u001b[0mTrue\u001b[0m\u001b[0;34m)\u001b[0m\u001b[0;34m\u001b[0m\u001b[0m\n\u001b[1;32m     13\u001b[0m \u001b[0mpid_Data_3\u001b[0m \u001b[0;34m=\u001b[0m \u001b[0mpd\u001b[0m\u001b[0;34m.\u001b[0m\u001b[0mread_csv\u001b[0m\u001b[0;34m(\u001b[0m\u001b[0;34m'~/Projects/smarthome-master/data/train/0000'\u001b[0m \u001b[0;34m+\u001b[0m \u001b[0mstr\u001b[0m\u001b[0;34m(\u001b[0m\u001b[0mpid_3\u001b[0m\u001b[0;34m)\u001b[0m \u001b[0;34m+\u001b[0m \u001b[0;34m'/all_video.csv'\u001b[0m\u001b[0;34m,\u001b[0m\u001b[0mindex_col\u001b[0m\u001b[0;34m=\u001b[0m\u001b[0;34m't'\u001b[0m\u001b[0;34m,\u001b[0m\u001b[0mparse_dates\u001b[0m\u001b[0;34m=\u001b[0m\u001b[0mTrue\u001b[0m\u001b[0;34m)\u001b[0m\u001b[0;34m\u001b[0m\u001b[0m\n",
      "\u001b[0;32m/Users/nashmasamba/anaconda/lib/python2.7/site-packages/pandas/io/parsers.pyc\u001b[0m in \u001b[0;36mparser_f\u001b[0;34m(filepath_or_buffer, sep, delimiter, header, names, index_col, usecols, squeeze, prefix, mangle_dupe_cols, dtype, engine, converters, true_values, false_values, skipinitialspace, skiprows, skipfooter, nrows, na_values, keep_default_na, na_filter, verbose, skip_blank_lines, parse_dates, infer_datetime_format, keep_date_col, date_parser, dayfirst, iterator, chunksize, compression, thousands, decimal, lineterminator, quotechar, quoting, escapechar, comment, encoding, dialect, tupleize_cols, error_bad_lines, warn_bad_lines, skip_footer, doublequote, delim_whitespace, as_recarray, compact_ints, use_unsigned, low_memory, buffer_lines, memory_map, float_precision)\u001b[0m\n\u001b[1;32m    560\u001b[0m                     skip_blank_lines=skip_blank_lines)\n\u001b[1;32m    561\u001b[0m \u001b[0;34m\u001b[0m\u001b[0m\n\u001b[0;32m--> 562\u001b[0;31m         \u001b[0;32mreturn\u001b[0m \u001b[0m_read\u001b[0m\u001b[0;34m(\u001b[0m\u001b[0mfilepath_or_buffer\u001b[0m\u001b[0;34m,\u001b[0m \u001b[0mkwds\u001b[0m\u001b[0;34m)\u001b[0m\u001b[0;34m\u001b[0m\u001b[0m\n\u001b[0m\u001b[1;32m    563\u001b[0m \u001b[0;34m\u001b[0m\u001b[0m\n\u001b[1;32m    564\u001b[0m     \u001b[0mparser_f\u001b[0m\u001b[0;34m.\u001b[0m\u001b[0m__name__\u001b[0m \u001b[0;34m=\u001b[0m \u001b[0mname\u001b[0m\u001b[0;34m\u001b[0m\u001b[0m\n",
      "\u001b[0;32m/Users/nashmasamba/anaconda/lib/python2.7/site-packages/pandas/io/parsers.pyc\u001b[0m in \u001b[0;36m_read\u001b[0;34m(filepath_or_buffer, kwds)\u001b[0m\n\u001b[1;32m    313\u001b[0m \u001b[0;34m\u001b[0m\u001b[0m\n\u001b[1;32m    314\u001b[0m     \u001b[0;31m# Create the parser.\u001b[0m\u001b[0;34m\u001b[0m\u001b[0;34m\u001b[0m\u001b[0m\n\u001b[0;32m--> 315\u001b[0;31m     \u001b[0mparser\u001b[0m \u001b[0;34m=\u001b[0m \u001b[0mTextFileReader\u001b[0m\u001b[0;34m(\u001b[0m\u001b[0mfilepath_or_buffer\u001b[0m\u001b[0;34m,\u001b[0m \u001b[0;34m**\u001b[0m\u001b[0mkwds\u001b[0m\u001b[0;34m)\u001b[0m\u001b[0;34m\u001b[0m\u001b[0m\n\u001b[0m\u001b[1;32m    316\u001b[0m \u001b[0;34m\u001b[0m\u001b[0m\n\u001b[1;32m    317\u001b[0m     \u001b[0;32mif\u001b[0m \u001b[0;34m(\u001b[0m\u001b[0mnrows\u001b[0m \u001b[0;32mis\u001b[0m \u001b[0;32mnot\u001b[0m \u001b[0mNone\u001b[0m\u001b[0;34m)\u001b[0m \u001b[0;32mand\u001b[0m \u001b[0;34m(\u001b[0m\u001b[0mchunksize\u001b[0m \u001b[0;32mis\u001b[0m \u001b[0;32mnot\u001b[0m \u001b[0mNone\u001b[0m\u001b[0;34m)\u001b[0m\u001b[0;34m:\u001b[0m\u001b[0;34m\u001b[0m\u001b[0m\n",
      "\u001b[0;32m/Users/nashmasamba/anaconda/lib/python2.7/site-packages/pandas/io/parsers.pyc\u001b[0m in \u001b[0;36m__init__\u001b[0;34m(self, f, engine, **kwds)\u001b[0m\n\u001b[1;32m    643\u001b[0m             \u001b[0mself\u001b[0m\u001b[0;34m.\u001b[0m\u001b[0moptions\u001b[0m\u001b[0;34m[\u001b[0m\u001b[0;34m'has_index_names'\u001b[0m\u001b[0;34m]\u001b[0m \u001b[0;34m=\u001b[0m \u001b[0mkwds\u001b[0m\u001b[0;34m[\u001b[0m\u001b[0;34m'has_index_names'\u001b[0m\u001b[0;34m]\u001b[0m\u001b[0;34m\u001b[0m\u001b[0m\n\u001b[1;32m    644\u001b[0m \u001b[0;34m\u001b[0m\u001b[0m\n\u001b[0;32m--> 645\u001b[0;31m         \u001b[0mself\u001b[0m\u001b[0;34m.\u001b[0m\u001b[0m_make_engine\u001b[0m\u001b[0;34m(\u001b[0m\u001b[0mself\u001b[0m\u001b[0;34m.\u001b[0m\u001b[0mengine\u001b[0m\u001b[0;34m)\u001b[0m\u001b[0;34m\u001b[0m\u001b[0m\n\u001b[0m\u001b[1;32m    646\u001b[0m \u001b[0;34m\u001b[0m\u001b[0m\n\u001b[1;32m    647\u001b[0m     \u001b[0;32mdef\u001b[0m \u001b[0mclose\u001b[0m\u001b[0;34m(\u001b[0m\u001b[0mself\u001b[0m\u001b[0;34m)\u001b[0m\u001b[0;34m:\u001b[0m\u001b[0;34m\u001b[0m\u001b[0m\n",
      "\u001b[0;32m/Users/nashmasamba/anaconda/lib/python2.7/site-packages/pandas/io/parsers.pyc\u001b[0m in \u001b[0;36m_make_engine\u001b[0;34m(self, engine)\u001b[0m\n\u001b[1;32m    797\u001b[0m     \u001b[0;32mdef\u001b[0m \u001b[0m_make_engine\u001b[0m\u001b[0;34m(\u001b[0m\u001b[0mself\u001b[0m\u001b[0;34m,\u001b[0m \u001b[0mengine\u001b[0m\u001b[0;34m=\u001b[0m\u001b[0;34m'c'\u001b[0m\u001b[0;34m)\u001b[0m\u001b[0;34m:\u001b[0m\u001b[0;34m\u001b[0m\u001b[0m\n\u001b[1;32m    798\u001b[0m         \u001b[0;32mif\u001b[0m \u001b[0mengine\u001b[0m \u001b[0;34m==\u001b[0m \u001b[0;34m'c'\u001b[0m\u001b[0;34m:\u001b[0m\u001b[0;34m\u001b[0m\u001b[0m\n\u001b[0;32m--> 799\u001b[0;31m             \u001b[0mself\u001b[0m\u001b[0;34m.\u001b[0m\u001b[0m_engine\u001b[0m \u001b[0;34m=\u001b[0m \u001b[0mCParserWrapper\u001b[0m\u001b[0;34m(\u001b[0m\u001b[0mself\u001b[0m\u001b[0;34m.\u001b[0m\u001b[0mf\u001b[0m\u001b[0;34m,\u001b[0m \u001b[0;34m**\u001b[0m\u001b[0mself\u001b[0m\u001b[0;34m.\u001b[0m\u001b[0moptions\u001b[0m\u001b[0;34m)\u001b[0m\u001b[0;34m\u001b[0m\u001b[0m\n\u001b[0m\u001b[1;32m    800\u001b[0m         \u001b[0;32melse\u001b[0m\u001b[0;34m:\u001b[0m\u001b[0;34m\u001b[0m\u001b[0m\n\u001b[1;32m    801\u001b[0m             \u001b[0;32mif\u001b[0m \u001b[0mengine\u001b[0m \u001b[0;34m==\u001b[0m \u001b[0;34m'python'\u001b[0m\u001b[0;34m:\u001b[0m\u001b[0;34m\u001b[0m\u001b[0m\n",
      "\u001b[0;32m/Users/nashmasamba/anaconda/lib/python2.7/site-packages/pandas/io/parsers.pyc\u001b[0m in \u001b[0;36m__init__\u001b[0;34m(self, src, **kwds)\u001b[0m\n\u001b[1;32m   1211\u001b[0m         \u001b[0mkwds\u001b[0m\u001b[0;34m[\u001b[0m\u001b[0;34m'allow_leading_cols'\u001b[0m\u001b[0;34m]\u001b[0m \u001b[0;34m=\u001b[0m \u001b[0mself\u001b[0m\u001b[0;34m.\u001b[0m\u001b[0mindex_col\u001b[0m \u001b[0;32mis\u001b[0m \u001b[0;32mnot\u001b[0m \u001b[0mFalse\u001b[0m\u001b[0;34m\u001b[0m\u001b[0m\n\u001b[1;32m   1212\u001b[0m \u001b[0;34m\u001b[0m\u001b[0m\n\u001b[0;32m-> 1213\u001b[0;31m         \u001b[0mself\u001b[0m\u001b[0;34m.\u001b[0m\u001b[0m_reader\u001b[0m \u001b[0;34m=\u001b[0m \u001b[0m_parser\u001b[0m\u001b[0;34m.\u001b[0m\u001b[0mTextReader\u001b[0m\u001b[0;34m(\u001b[0m\u001b[0msrc\u001b[0m\u001b[0;34m,\u001b[0m \u001b[0;34m**\u001b[0m\u001b[0mkwds\u001b[0m\u001b[0;34m)\u001b[0m\u001b[0;34m\u001b[0m\u001b[0m\n\u001b[0m\u001b[1;32m   1214\u001b[0m \u001b[0;34m\u001b[0m\u001b[0m\n\u001b[1;32m   1215\u001b[0m         \u001b[0;31m# XXX\u001b[0m\u001b[0;34m\u001b[0m\u001b[0;34m\u001b[0m\u001b[0m\n",
      "\u001b[0;32mpandas/parser.pyx\u001b[0m in \u001b[0;36mpandas.parser.TextReader.__cinit__ (pandas/parser.c:3427)\u001b[0;34m()\u001b[0m\n",
      "\u001b[0;32mpandas/parser.pyx\u001b[0m in \u001b[0;36mpandas.parser.TextReader._setup_parser_source (pandas/parser.c:6861)\u001b[0;34m()\u001b[0m\n",
      "\u001b[0;31mIOError\u001b[0m: File /Users/nashmasamba/Projects/smarthome-master/data/train/00001/all_video.csv does not exist"
     ]
    }
   ],
   "source": [
    "pid_1 = 1\n",
    "pid_2 = 2\n",
    "pid_3 = 3\n",
    "pid_4 = 4\n",
    "pid_4 = 5\n",
    "pid_5 = 5\n",
    "pid_6 = 6\n",
    "pid_7 = 7\n",
    "pid_8 = 8\n",
    "pid_9 = 9\n",
    "pid_Data_1 = pd.read_csv('~/Projects/smarthome-master/data/train/0000' + str(pid_1) + '/all_video.csv',index_col='t',parse_dates=True)\n",
    "pid_Data_2 = pd.read_csv('~/Projects/smarthome-master/data/train/0000' + str(pid_2) + '/all_video.csv',index_col='t',parse_dates=True)    \n",
    "pid_Data_3 = pd.read_csv('~/Projects/smarthome-master/data/train/0000' + str(pid_3) + '/all_video.csv',index_col='t',parse_dates=True)    \n",
    "pid_Data_4 = pd.read_csv('~/Projects/smarthome-master/data/train/0000' + str(pid_4) + '/all_video.csv',index_col='t',parse_dates=True) \n",
    "pid_Data_5 = pd.read_csv('~/Projects/smarthome-master/data/train/0000' + str(pid_5) + '/all_video.csv',index_col='t',parse_dates=True)\n",
    "pid_Data_6 = pd.read_csv('~/Projects/smarthome-master/data/train/0000' + str(pid_6) + '/all_video.csv',index_col='t',parse_dates=True)\n",
    "pid_Data_7 = pd.read_csv('~/Projects/smarthome-master/data/train/0000' + str(pid_7) + '/all_video.csv',index_col='t',parse_dates=True)   \n",
    "pid_Data_8 = pd.read_csv('~/Projects/smarthome-master/data/train/0000' + str(pid_8) + '/all_video.csv',index_col='t',parse_dates=True)  \n",
    "pid_Data_9 = pd.read_csv('~/Projects/smarthome-master/data/train/0000' + str(pid_9) + '/all_video.csv',index_col='t',parse_dates=True)  "
   ]
  },
  {
   "cell_type": "code",
   "execution_count": null,
   "metadata": {
    "collapsed": false
   },
   "outputs": [],
   "source": [
    "pid_Data_1.head()"
   ]
  },
  {
   "cell_type": "code",
   "execution_count": null,
   "metadata": {
    "collapsed": true
   },
   "outputs": [],
   "source": [
    "%matplotlib inline\n",
    "rcParams['figure.figsize'] = 14, 7\n",
    "sb.set_style('whitegrid')"
   ]
  },
  {
   "cell_type": "code",
   "execution_count": null,
   "metadata": {
    "collapsed": false,
    "scrolled": false
   },
   "outputs": [],
   "source": [
    "pid_Data_1['centre_3d_z'].plot()\n",
    "pid_Data_2['centre_3d_z'].plot()\n",
    "pid_Data_3['centre_3d_z'].plot()\n",
    "pid_Data_4['centre_3d_z'].plot()\n",
    "pid_Data_5['centre_3d_z'].plot()\n",
    "pid_Data_6['centre_3d_z'].plot()\n",
    "pid_Data_7['centre_3d_z'].plot()\n",
    "pid_Data_8['centre_3d_z'].plot()\n",
    "pid_Data_9['centre_3d_z'].plot()"
   ]
  },
  {
   "cell_type": "code",
   "execution_count": null,
   "metadata": {
    "collapsed": true
   },
   "outputs": [],
   "source": [
    "pid_Data_1 = pd.read_csv('~/Projects/smarthome-master/data/train/0000' + str(pid_1) + '/all_video.csv')\n",
    "pid_Data_2 = pd.read_csv('~/Projects/smarthome-master/data/train/0000' + str(pid_2) + '/all_video.csv')    \n",
    "pid_Data_3 = pd.read_csv('~/Projects/smarthome-master/data/train/0000' + str(pid_3) + '/all_video.csv')    \n",
    "pid_Data_4 = pd.read_csv('~/Projects/smarthome-master/data/train/0000' + str(pid_4) + '/all_video.csv') \n",
    "pid_Data_5 = pd.read_csv('~/Projects/smarthome-master/data/train/0000' + str(pid_5) + '/all_video.csv')\n",
    "pid_Data_6 = pd.read_csv('~/Projects/smarthome-master/data/train/0000' + str(pid_6) + '/all_video.csv')\n",
    "pid_Data_7 = pd.read_csv('~/Projects/smarthome-master/data/train/0000' + str(pid_7) + '/all_video.csv')   \n",
    "pid_Data_8 = pd.read_csv('~/Projects/smarthome-master/data/train/0000' + str(pid_8) + '/all_video.csv')  \n",
    "pid_Data_9 = pd.read_csv('~/Projects/smarthome-master/data/train/0000' + str(pid_9) + '/all_video.csv') "
   ]
  },
  {
   "cell_type": "code",
   "execution_count": null,
   "metadata": {
    "collapsed": true
   },
   "outputs": [],
   "source": [
    "#pip install plotly --upgrade"
   ]
  },
  {
   "cell_type": "code",
   "execution_count": null,
   "metadata": {
    "collapsed": false,
    "scrolled": true
   },
   "outputs": [],
   "source": [
    "pid_Data_1.head()"
   ]
  },
  {
   "cell_type": "code",
   "execution_count": null,
   "metadata": {
    "collapsed": false,
    "scrolled": true
   },
   "outputs": [],
   "source": [
    "sb.violinplot(x=\"t\", y=\"VideoLocation\", data=pid_Data_1);"
   ]
  },
  {
   "cell_type": "code",
   "execution_count": null,
   "metadata": {
    "collapsed": true
   },
   "outputs": [],
   "source": [
    "pid_Data_1 = pid_Data_1[1:200]"
   ]
  },
  {
   "cell_type": "code",
   "execution_count": null,
   "metadata": {
    "collapsed": false,
    "scrolled": false
   },
   "outputs": [],
   "source": [
    "from pandas.tools.plotting import radviz\n",
    "fig = plt.figure()\n",
    "data = pid_Data_2[['centre_3d_x','bb_3d_brb_x','bb_3d_flt_x','VideoLocation']]\n",
    "radviz(data,'VideoLocation')"
   ]
  },
  {
   "cell_type": "code",
   "execution_count": null,
   "metadata": {
    "collapsed": true
   },
   "outputs": [],
   "source": [
    "# pid_Data_1['VideoLocation','t'],\n",
    "# pid_Data_2['VideoLocation','t'],\n",
    "# pid_Data_3['VideoLocation','t'],\n",
    "# pid_Data_4['VideoLocation','t'],\n",
    "# pid_Data_5['VideoLocation','t'],\n",
    "# pid_Data_6['VideoLocation','t'],\n",
    "# pid_Data_7['VideoLocation','t'],\n",
    "# pid_Data_8['VideoLocation','t'],\n",
    "# pid_Data_9['VideoLocation','t']"
   ]
  },
  {
   "cell_type": "code",
   "execution_count": null,
   "metadata": {
    "collapsed": false,
    "scrolled": true
   },
   "outputs": [],
   "source": [
    "import datetime as dt \n",
    "import numpy as np\n",
    "import pandas as pd\n",
    "\n",
    "from collections import OrderedDict\n",
    "\n",
    "from bokeh.layouts import row\n",
    "from bokeh.sampledata.iris import flowers\n",
    "from bokeh.plotting import *\n",
    "from bokeh.charts import Scatter, output_file, show\n",
    "\n",
    "dataframe_collection = {} \n",
    "dataframe_collection2 = {}\n",
    "\n",
    "\n",
    "for i in data:\n",
    "    pid_data = pd.read_csv('~/Projects/smarthome-master/data/train/0000' + str(pid_1) + '/all_video.csv')\n",
    "    pid_data2 = pd.read_csv('~/Projects/smarthome-master/data/train/0000' + str(pid_5) + '/all_video.csv')\n",
    "    dataframe_collection[i] = pd.DataFrame(pid_data)\n",
    "    dataframe_collection2[i] = pd.DataFrame(pid_data2)\n",
    "\n",
    "\n",
    "for key in dataframe_collection.keys():\n",
    "    s1 = Scatter(dataframe_collection[key], x='t', y='VideoLocation', \n",
    "                marker='square', color='firebrick',\n",
    "                title=\"Sequence Comparison: LEFT SUBJECT\", legend=\"top_left\",\n",
    "                xlabel=\"Time\", ylabel=\"VideoLocation\")\n",
    "    \n",
    "for key in dataframe_collection2.keys():\n",
    "    s2 = Scatter(dataframe_collection2[key], x='t', y='VideoLocation', \n",
    "                marker='square', color='navy',\n",
    "                title=\"Sequence Comparison: RIGHT SUBJECT\", legend=\"top_left\",\n",
    "                xlabel=\"Time\", ylabel=\"VideoLocation\")\n",
    "    \n",
    "grid = gridplot([s1, s2], ncols=2, plot_width=400, plot_height=400)\n",
    "\n",
    "output_notebook()\n",
    "\n",
    "show(grid)\n",
    "\n"
   ]
  },
  {
   "cell_type": "code",
   "execution_count": null,
   "metadata": {
    "collapsed": false
   },
   "outputs": [],
   "source": [
    "#fig = plt.figure()\n",
    "#fig, (ax1,ax2,ax3) = plt.subplots(1,3)\n",
    "\n",
    "plt.plot(pid_Data_5.centre_2d_x, pid_Data_5.centre_2d_y, 'o b', label='1')\n",
    "plt.plot(pid_Data_1.centre_2d_x, pid_Data_1.centre_2d_y, 'o r', label='2')\n",
    "#ax1.plot(pid_Data_2.centre_2d_x)\n",
    "#ax2.plot(pid_Data_1.centre_2d_x, pid_Data_1.centre_2d_y)\n",
    "#ax3.plot(pid_Data_1.centre_2d_y)\n"
   ]
  },
  {
   "cell_type": "code",
   "execution_count": null,
   "metadata": {
    "collapsed": false
   },
   "outputs": [],
   "source": [
    "import datetime as dt \n",
    "import numpy as np\n",
    "import pandas as pd\n",
    "\n",
    "from collections import OrderedDict\n",
    "\n",
    "from bokeh import hplot\n",
    "from bokeh.sampledata.iris import flowers\n",
    "from bokeh.plotting import *\n",
    "from bokeh.charts import Scatter, output_file, show\n",
    "\n",
    "dataframe_collection = {} \n",
    "dataframe_collection2 = {}\n",
    "\n",
    "\n",
    "for i in data:\n",
    "    pid_data = pd.read_csv('~/Projects/smarthome-master/data/train/0000' + str(pid_1) + '/all_video.csv')\n",
    "    pid_data2 = pd.read_csv('~/Projects/smarthome-master/data/train/0000' + str(pid_2) + '/all_video.csv')\n",
    "    dataframe_collection[i] = pd.DataFrame(pid_data)\n",
    "    dataframe_collection2[i] = pd.DataFrame(pid_data2)\n",
    "\n",
    "\n",
    "for key in dataframe_collection.keys():\n",
    "    p = Scatter(dataframe_collection[key], x='t', y='VideoLocation', \n",
    "                marker='square',\n",
    "                title=\"VideoLocation vs Time\", legend=\"top_left\",\n",
    "                xlabel=\"Time\", ylabel=\"VideoLocation\")\n",
    "\n",
    "output_notebook()\n",
    "\n",
    "show(p)\n",
    "\n",
    "\n"
   ]
  },
  {
   "cell_type": "code",
   "execution_count": null,
   "metadata": {
    "collapsed": true
   },
   "outputs": [],
   "source": []
  }
 ],
 "metadata": {
  "anaconda-cloud": {},
  "kernelspec": {
   "display_name": "Python [default]",
   "language": "python",
   "name": "python2"
  },
  "language_info": {
   "codemirror_mode": {
    "name": "ipython",
    "version": 2
   },
   "file_extension": ".py",
   "mimetype": "text/x-python",
   "name": "python",
   "nbconvert_exporter": "python",
   "pygments_lexer": "ipython2",
   "version": "2.7.12"
  }
 },
 "nbformat": 4,
 "nbformat_minor": 2
}
