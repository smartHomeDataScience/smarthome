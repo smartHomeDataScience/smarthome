{
 "cells": [
  {
   "cell_type": "code",
   "execution_count": 82,
   "metadata": {
    "collapsed": false
   },
   "outputs": [
    {
     "data": {
      "image/png": "[encoded data removed]",
      "text/plain": [
       "<matplotlib.figure.Figure at 0x118f77ac8>"
      ]
     },
     "metadata": {},
     "output_type": "display_data"
    }
   ],
   "source": [
    "import numpy as np\n",
    "import matplotlib.pyplot as plt\n",
    "from pymongo import MongoClient\n",
    "\n",
    "db = MongoClient('mongodb://localhost/SmartHome', 27017).SmartHome\n",
    "cursor = db.location.find({'pid':0})\n",
    "con=1;\n",
    "s=[]\n",
    "e=[]\n",
    "index=[]\n",
    "\n",
    "for i in cursor:\n",
    "        s.append(float(i['start']))\n",
    "        e.append(float(i['end']))\n",
    "        index.append(int(i['index']))\n",
    "color_mapper = np.vectorize(lambda x: {1: 'red', 2: 'blue',3: 'yellow',4: 'pink',5: 'purple',6: 'grey',7 :'black',8: 'white', 9: 'orange'}.get(x))\n",
    "\n",
    "fig = plt.figure(figsize=(20, 9))\n",
    "vax = fig.add_subplot(121)\n",
    "\n",
    "vax.set_xlabel('time (s)')\n",
    "vax.hlines(index, s, e,colors=color_mapper(index) )\n",
    "plt.show()"
   ]
  },
  {
   "cell_type": "code",
   "execution_count": null,
   "metadata": {
    "collapsed": true
   },
   "outputs": [],
   "source": []
  }
 ],
 "metadata": {
  "kernelspec": {
   "display_name": "Python 3",
   "language": "python",
   "name": "python3"
  },
  "language_info": {
   "codemirror_mode": {
    "name": "ipython",
    "version": 3
   },
   "file_extension": ".py",
   "mimetype": "text/x-python",
   "name": "python",
   "nbconvert_exporter": "python",
   "pygments_lexer": "ipython3",
   "version": "3.6.0"
  }
 },
 "nbformat": 4,
 "nbformat_minor": 2
}
