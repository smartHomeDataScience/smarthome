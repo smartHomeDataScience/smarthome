{
 "cells": [
  {
   "cell_type": "code",
   "execution_count": 2,
   "metadata": {
    "collapsed": true
   },
   "outputs": [],
   "source": [
    "import numpy as np\n",
    "import pandas as pd"
   ]
  },
  {
   "cell_type": "code",
   "execution_count": 3,
   "metadata": {
    "collapsed": true
   },
   "outputs": [],
   "source": [
    "import time\n",
    "import numpy as np\n",
    "import matplotlib\n",
    "matplotlib.use('TkAgg') # do this before importing pylab\n",
    "\n",
    "import matplotlib.pyplot as plt\n",
    "from matplotlib import rcParams\n",
    "import seaborn as sb"
   ]
  },
  {
   "cell_type": "code",
   "execution_count": 4,
   "metadata": {
    "collapsed": true
   },
   "outputs": [],
   "source": [
    "%matplotlib inline\n",
    "rcParams['figure.figsize'] = 30,5\n",
    "sb.set_style('whitegrid')"
   ]
  },
  {
   "cell_type": "code",
   "execution_count": 5,
   "metadata": {
    "collapsed": true
   },
   "outputs": [],
   "source": [
    "from ipywidgets import widgets\n",
    "from bokeh.models.annotations import Label\n",
    "from bokeh.plotting import figure, output_file, curdoc,show,output_notebook"
   ]
  },
  {
   "cell_type": "code",
   "execution_count": 6,
   "metadata": {},
   "outputs": [
    {
     "ename": "NameError",
     "evalue": "name 'pid' is not defined",
     "output_type": "error",
     "traceback": [
      "\u001b[0;31m---------------------------------------------------------------------------\u001b[0m",
      "\u001b[0;31mNameError\u001b[0m                                 Traceback (most recent call last)",
      "\u001b[0;32m<ipython-input-6-352faefdb884>\u001b[0m in \u001b[0;36m<module>\u001b[0;34m()\u001b[0m\n\u001b[1;32m      2\u001b[0m     \u001b[0mPATH\u001b[0m \u001b[1;33m=\u001b[0m\u001b[1;34m'C:/Users/ralkh/Desktop/smarthome-master/'\u001b[0m\u001b[1;33m\u001b[0m\u001b[0m\n\u001b[1;32m      3\u001b[0m \u001b[1;33m\u001b[0m\u001b[0m\n\u001b[0;32m----> 4\u001b[0;31m     \u001b[0mdf_video\u001b[0m \u001b[1;33m=\u001b[0m \u001b[0mpd\u001b[0m\u001b[1;33m.\u001b[0m\u001b[0mread_csv\u001b[0m\u001b[1;33m(\u001b[0m\u001b[1;34m'C:/Users/ralkh/Desktop/smarthome-master/data/train/0000'\u001b[0m\u001b[1;33m+\u001b[0m \u001b[0mstr\u001b[0m\u001b[1;33m(\u001b[0m\u001b[0mpid\u001b[0m\u001b[1;33m)\u001b[0m \u001b[1;33m+\u001b[0m \u001b[1;34m'/all_video.csv'\u001b[0m\u001b[1;33m)\u001b[0m\u001b[1;33m\u001b[0m\u001b[0m\n\u001b[0m\u001b[1;32m      5\u001b[0m     \u001b[0mdf_video\u001b[0m\u001b[1;33m.\u001b[0m\u001b[0mhead\u001b[0m\u001b[1;33m(\u001b[0m\u001b[1;33m)\u001b[0m\u001b[1;33m\u001b[0m\u001b[0m\n\u001b[1;32m      6\u001b[0m \u001b[1;33m\u001b[0m\u001b[0m\n",
      "\u001b[0;31mNameError\u001b[0m: name 'pid' is not defined"
     ]
    }
   ],
   "source": [
    "for pid in range(9):\n",
    "    PATH ='C:/Users/ralkh/Desktop/smarthome-master/'\n",
    "\n",
    "    df_video = pd.read_csv('C:/Users/ralkh/Desktop/smarthome-master/data/train/0000'+ str(pid) + '/all_video.csv')\n",
    "    df_video.head()\n",
    "\n",
    "    df_location_0 = pd.read_csv('C:/Users/ralkh/Desktop/smarthome-master/data/train/0000'+ str(pid) + '/location_0.csv')\n",
    "    df_location_0.head()\n",
    "\n",
    "    t = []\n",
    "    location = []\n",
    "\n",
    "    maximum = int(df_location_0.start.count())\n",
    "\n",
    "    for i in range(1,maximum):\n",
    "        start = df_location_0.start[i]\n",
    "        end = df_location_0.end[i]\n",
    "        name = df_location_0.name[i]\n",
    "        for k in range(int(start),int(end)+1):\n",
    "            fseconds = start\n",
    "    #         iseconds = int(fseconds)\n",
    "    #         seconds = \"2000-01-01 %02d:%02d:%0.2f\" % (0,0,fseconds)\n",
    "            t.append(fseconds)\n",
    "            location.append(name)\n",
    "            start = start + .03\n",
    "\n",
    "\n",
    "    location_df = pd.DataFrame(t,columns=['time'])\n",
    "    location_df['location'] = location\n",
    "    location_df.head()\n",
    "    location_df.to_csv(path_or_buf='C:/Users/ralkh/Desktop/smarthome-master/data/train/0000'+ str(pid) + '/location_0_timeseries.csv')\n",
    "\n",
    "    df_video_t = df_video[['t','VideoLocation']]\n",
    "    # times = []\n",
    "    # for i in range(df_video.t.count()):\n",
    "    #     fseconds = df_video.t[i]\n",
    "    #     iseconds = int(fseconds)\n",
    "    #     seconds = \"2000-01-01 %02d:%02d:%0.2f\" % (0,0,fseconds)    \n",
    "    #     times .append(seconds)\n",
    "    # df_video_t ['t'] = times\n",
    "    df_video_t.to_csv(path_or_buf='C:/Users/ralkh/Desktop/smarthome-master/data/train/0000' + str(pid) + '/VideoLocation_timeseries.csv')"
   ]
  }
 ],
 "metadata": {
  "kernelspec": {
   "display_name": "Python 3",
   "language": "python",
   "name": "python3"
  },
  "language_info": {
   "codemirror_mode": {
    "name": "ipython",
    "version": 3
   },
   "file_extension": ".py",
   "mimetype": "text/x-python",
   "name": "python",
   "nbconvert_exporter": "python",
   "pygments_lexer": "ipython3",
   "version": "3.6.1"
  },
  "widgets": {
   "state": {
    "39e27a7f48de4298aa8588a0ee5fb454": {
     "views": [
      {
       "cell_index": 13
      }
     ]
    }
   },
   "version": "1.2.0"
  }
 },
 "nbformat": 4,
 "nbformat_minor": 2
}
